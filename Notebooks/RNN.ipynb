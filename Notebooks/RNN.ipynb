{
 "cells": [
  {
   "cell_type": "markdown",
   "metadata": {},
   "source": [
    "# Implementation of Recurrent Neural Network(RNN) from scratch using only Numpy..."
   ]
  },
  {
   "cell_type": "code",
   "execution_count": 1,
   "metadata": {},
   "outputs": [],
   "source": [
    "# Only thing we need is Numpy...\n",
    "import numpy as np"
   ]
  },
  {
   "cell_type": "code",
   "execution_count": 2,
   "metadata": {},
   "outputs": [],
   "source": [
    "# Generate a Random seed...\n",
    "# np.andom.seed() provides an essential input that enables NumPy\n",
    "# to generate pseudo-random numbers for random processes.\n",
    "np.random.seed(1234)"
   ]
  },
  {
   "cell_type": "code",
   "execution_count": 3,
   "metadata": {},
   "outputs": [],
   "source": [
    "# Some sample data for our RNN.\n",
    "# We take input value 'x' and\n",
    "# target value 'y'\n",
    "\n",
    "x = np.array([\n",
    "    [1,0,0],\n",
    "    [1,1,0],\n",
    "    [1,1,1]\n",
    "])\n",
    "\n",
    "y = np.array([\n",
    "    [1],\n",
    "    [2],\n",
    "    [3]\n",
    "])"
   ]
  },
  {
   "cell_type": "code",
   "execution_count": 4,
   "metadata": {},
   "outputs": [],
   "source": [
    "# Declare the starting Weights - however - \n",
    "# the best set of weights would be wx = 1 and wrec = 1\n",
    "\n",
    "wx = [0.2]\n",
    "wrec = [1.5]"
   ]
  },
  {
   "cell_type": "code",
   "execution_count": 5,
   "metadata": {},
   "outputs": [],
   "source": [
    "# Declare Hyper Parameters...\n",
    "\n",
    "# Set the number of epoch\n",
    "number_of_epoch = 50000\n",
    "\n",
    "# Set the number of training data...\n",
    "number_of_training_data = 3\n",
    "\n",
    "# Set the learning rate\n",
    "learning_rate_x = 0.02\n",
    "learning_rate_rec = 0.0006"
   ]
  },
  {
   "cell_type": "code",
   "execution_count": 6,
   "metadata": {},
   "outputs": [],
   "source": [
    "# Initialize in the form of np arrays\n",
    "\n",
    "states = np.zeros((3,4))\n",
    "grad_over_time = np.zeros((3,4))\n",
    "\n",
    "# print('States: ', states)\n",
    "# print('\\nGradients over time: ', grad_over_time)"
   ]
  },
  {
   "cell_type": "code",
   "execution_count": 8,
   "metadata": {},
   "outputs": [
    {
     "name": "stdout",
     "output_type": "stream",
     "text": [
      "\n",
      "Current Epoch:  0   current predition : [1. 2. 3.]\n",
      "\n",
      "Current Epoch:  1000   current predition : [1. 2. 3.]\n",
      "\n",
      "Current Epoch:  2000   current predition : [1. 2. 3.]\n",
      "\n",
      "Current Epoch:  3000   current predition : [1. 2. 3.]\n",
      "\n",
      "Current Epoch:  4000   current predition : [1. 2. 3.]\n",
      "\n",
      "Current Epoch:  5000   current predition : [1. 2. 3.]\n",
      "\n",
      "Current Epoch:  6000   current predition : [1. 2. 3.]\n",
      "\n",
      "Current Epoch:  7000   current predition : [1. 2. 3.]\n",
      "\n",
      "Current Epoch:  8000   current predition : [1. 2. 3.]\n",
      "\n",
      "Current Epoch:  9000   current predition : [1. 2. 3.]\n",
      "\n",
      "Current Epoch:  10000   current predition : [1. 2. 3.]\n",
      "\n",
      "Current Epoch:  11000   current predition : [1. 2. 3.]\n",
      "\n",
      "Current Epoch:  12000   current predition : [1. 2. 3.]\n",
      "\n",
      "Current Epoch:  13000   current predition : [1. 2. 3.]\n",
      "\n",
      "Current Epoch:  14000   current predition : [1. 2. 3.]\n",
      "\n",
      "Current Epoch:  15000   current predition : [1. 2. 3.]\n",
      "\n",
      "Current Epoch:  16000   current predition : [1. 2. 3.]\n",
      "\n",
      "Current Epoch:  17000   current predition : [1. 2. 3.]\n",
      "\n",
      "Current Epoch:  18000   current predition : [1. 2. 3.]\n",
      "\n",
      "Current Epoch:  19000   current predition : [1. 2. 3.]\n",
      "\n",
      "Current Epoch:  20000   current predition : [1. 2. 3.]\n",
      "\n",
      "Current Epoch:  21000   current predition : [1. 2. 3.]\n",
      "\n",
      "Current Epoch:  22000   current predition : [1. 2. 3.]\n",
      "\n",
      "Current Epoch:  23000   current predition : [1. 2. 3.]\n",
      "\n",
      "Current Epoch:  24000   current predition : [1. 2. 3.]\n",
      "\n",
      "Current Epoch:  25000   current predition : [1. 2. 3.]\n",
      "\n",
      "Current Epoch:  26000   current predition : [1. 2. 3.]\n",
      "\n",
      "Current Epoch:  27000   current predition : [1. 2. 3.]\n",
      "\n",
      "Current Epoch:  28000   current predition : [1. 2. 3.]\n",
      "\n",
      "Current Epoch:  29000   current predition : [1. 2. 3.]\n",
      "\n",
      "Current Epoch:  30000   current predition : [1. 2. 3.]\n",
      "\n",
      "Current Epoch:  31000   current predition : [1. 2. 3.]\n",
      "\n",
      "Current Epoch:  32000   current predition : [1. 2. 3.]\n",
      "\n",
      "Current Epoch:  33000   current predition : [1. 2. 3.]\n",
      "\n",
      "Current Epoch:  34000   current predition : [1. 2. 3.]\n",
      "\n",
      "Current Epoch:  35000   current predition : [1. 2. 3.]\n",
      "\n",
      "Current Epoch:  36000   current predition : [1. 2. 3.]\n",
      "\n",
      "Current Epoch:  37000   current predition : [1. 2. 3.]\n",
      "\n",
      "Current Epoch:  38000   current predition : [1. 2. 3.]\n",
      "\n",
      "Current Epoch:  39000   current predition : [1. 2. 3.]\n",
      "\n",
      "Current Epoch:  40000   current predition : [1. 2. 3.]\n",
      "\n",
      "Current Epoch:  41000   current predition : [1. 2. 3.]\n",
      "\n",
      "Current Epoch:  42000   current predition : [1. 2. 3.]\n",
      "\n",
      "Current Epoch:  43000   current predition : [1. 2. 3.]\n",
      "\n",
      "Current Epoch:  44000   current predition : [1. 2. 3.]\n",
      "\n",
      "Current Epoch:  45000   current predition : [1. 2. 3.]\n",
      "\n",
      "Current Epoch:  46000   current predition : [1. 2. 3.]\n",
      "\n",
      "Current Epoch:  47000   current predition : [1. 2. 3.]\n",
      "\n",
      "Current Epoch:  48000   current predition : [1. 2. 3.]\n",
      "\n",
      "Current Epoch:  49000   current predition : [1. 2. 3.]\n"
     ]
    }
   ],
   "source": [
    "# Start the Training\n",
    "\n",
    "for iter in range(number_of_epoch):\n",
    "\n",
    "    # Feed Forward of the network\n",
    "    layer_1 = x[:,0] * wx + states[:,0] * wrec\n",
    "    states[:,1] = layer_1\n",
    "\n",
    "    layer_2 = x[:,1] * wx + states[:,1] * wrec\n",
    "    states[:,2] = layer_2\n",
    "\n",
    "    layer_3 = x[:,2] * wx + states[:,2] * wrec\n",
    "    states[:,3] = layer_3\n",
    " \n",
    "    cost = np.square(states[:,3] - y).sum() / number_of_training_data\n",
    "\n",
    "    grad_out = (states[:,3] - np.squeeze(y)) * 2 / number_of_training_data\n",
    "    grad_over_time[:,3] = grad_out\n",
    "    grad_over_time[:,2] = grad_over_time[:,3] * wrec\n",
    "    grad_over_time[:,1] = grad_over_time[:,2] * wrec\n",
    "\n",
    "    # NOTE: Do Not really need grad_over_time[:,0]\n",
    "    grad_over_time[:,0] = grad_over_time[:,1] * wrec\n",
    "\n",
    "     \n",
    "    grad_wx = np.sum(grad_over_time[:,3] * x[:,2] + \n",
    "                     grad_over_time[:,2] * x[:,1]  + \n",
    "                     grad_over_time[:,1] * x[:,0])\n",
    "\n",
    "    grad_rec = np.sum(grad_over_time[:,3] * states[:,2] + \n",
    "                      grad_over_time[:,2] * states[:,1]  + \n",
    "                      grad_over_time[:,1] * states[:,0])\n",
    "    \n",
    "    # Updating weights...\n",
    "    wx = wx - learning_rate_x * grad_wx\n",
    "    wrec = wrec - learning_rate_rec * grad_rec\n",
    "\n",
    "    if (iter%1000 == 0):\n",
    "        print('\\nCurrent Epoch: ',iter, '  current predition :' ,layer_3)"
   ]
  },
  {
   "cell_type": "code",
   "execution_count": 9,
   "metadata": {},
   "outputs": [],
   "source": [
    "# The architecture\n",
    "layer_1 = x[:,0] * wx + states[:,0] * wrec\n",
    "states[:,1] = layer_1\n",
    "\n",
    "layer_2 = x[:,1] * wx + states[:,1] * wrec\n",
    "states[:,2] = layer_2\n",
    "\n",
    "layer_3 = x[:,2] * wx + states[:,2] * wrec\n",
    "states[:,3] = layer_3"
   ]
  },
  {
   "cell_type": "code",
   "execution_count": 10,
   "metadata": {},
   "outputs": [
    {
     "name": "stdout",
     "output_type": "stream",
     "text": [
      "Ground Truth:  [1. 2. 3.]\n",
      "Rounded Truth:  [1. 2. 3.]\n",
      "Final weight X :  [1.]\n",
      "Final weight Rec :  [1.]\n"
     ]
    }
   ],
   "source": [
    "# Final Output and rounded resutls\n",
    "\n",
    "print('Ground Truth: ',layer_3)\n",
    "print('Rounded Truth: ',np.round(layer_3))\n",
    "print(\"Final weight X : \",wx)\n",
    "print(\"Final weight Rec : \",wrec)"
   ]
  },
  {
   "cell_type": "markdown",
   "metadata": {},
   "source": [
    "----------------------That's it for this cycle-----------------------"
   ]
  },
  {
   "cell_type": "markdown",
   "metadata": {},
   "source": [
    "## Let's do the same thing with activations..."
   ]
  },
  {
   "cell_type": "code",
   "execution_count": 11,
   "metadata": {},
   "outputs": [],
   "source": [
    "# Here we use the Logorithmic activation function...\n",
    "\n",
    "def log(x):\n",
    "    return 1 / ( 1+ np.exp( -1 * x ))\n",
    "\n",
    "def d_log(x):\n",
    "    return log(x) * (1 - log(x))"
   ]
  },
  {
   "cell_type": "code",
   "execution_count": 12,
   "metadata": {},
   "outputs": [],
   "source": [
    "# Training data remains same here for 'x' & 'y'..."
   ]
  },
  {
   "cell_type": "code",
   "execution_count": 13,
   "metadata": {},
   "outputs": [],
   "source": [
    "# Declare Hyper Parameters...\n",
    "\n",
    "wx = np.random.randn()\n",
    "wrec = np.random.randn()\n",
    "\n",
    "number_of_epoch = 15000\n",
    "\n",
    "lr_wx = 0.001\n",
    "lr_wrec = 0.001"
   ]
  },
  {
   "cell_type": "code",
   "execution_count": 14,
   "metadata": {},
   "outputs": [],
   "source": [
    "state = np.zeros((x.shape[0],x.shape[1] + 1))\n",
    "grad_over_time = np.zeros((x.shape))"
   ]
  },
  {
   "cell_type": "code",
   "execution_count": 15,
   "metadata": {},
   "outputs": [
    {
     "name": "stdout",
     "output_type": "stream",
     "text": [
      "Current iter :  0  Current cost:  5.847872199212813\n",
      "Current iter :  1000  Current cost:  0.9951704943204343\n",
      "Current iter :  2000  Current cost:  0.1419578070514743\n",
      "Current iter :  3000  Current cost:  0.11273245295695294\n",
      "Current iter :  4000  Current cost:  0.10307442764032371\n",
      "Current iter :  5000  Current cost:  0.09869720852304842\n",
      "Current iter :  6000  Current cost:  0.09670312471301536\n",
      "Current iter :  7000  Current cost:  0.09579497336489533\n",
      "Current iter :  8000  Current cost:  0.09538147825666778\n",
      "Current iter :  9000  Current cost:  0.09519323778665428\n",
      "Current iter :  10000  Current cost:  0.09510755212566056\n",
      "Current iter :  11000  Current cost:  0.0950685515584827\n",
      "Current iter :  12000  Current cost:  0.09505080101461244\n",
      "Current iter :  13000  Current cost:  0.09504272238954642\n",
      "Current iter :  14000  Current cost:  0.09503904573259021\n"
     ]
    }
   ],
   "source": [
    "# Train the model...\n",
    "\n",
    "for iter in range(number_of_epoch):\n",
    "\n",
    "    state_1_in  = state[:,0]*wrec + x[:,0]*wx\n",
    "    state_1_out = log(state_1_in)\n",
    "    state[:,1] = state_1_out\n",
    "\n",
    "    state_2_in  = state[:,1]*wrec + x[:,1]*wx\n",
    "    state_2_out = log(state_2_in)\n",
    "    state[:,2] = state_2_out\n",
    "\n",
    "    state_3_in  = state[:,2]*wrec + x[:,2]*wx\n",
    "    state[:,3] = state_3_in\n",
    "\n",
    "    cost = np.square(state[:,3] - np.squeeze(y)).sum() / len(x)\n",
    "\n",
    "    if iter % 1000 == 0:\n",
    "        print(\"Current iter : \", iter, \" Current cost: \", cost)\n",
    "\n",
    "    grad_over_time[:,2] = (state[:,3] - np.squeeze(y)) * (2/len(x))\n",
    "    grad_over_time[:,1] = grad_over_time[:,2] * wrec  * d_log(state_2_in)\n",
    "    grad_over_time[:,0] = grad_over_time[:,1] * wrec  * d_log(state_1_in)\n",
    "\n",
    "    grad_wx = np.sum(grad_over_time[:,2]*x[:,2]+\n",
    "                    grad_over_time[:,1]*x[:,1]+\n",
    "                    grad_over_time[:,0]*x[:,0])\n",
    "\n",
    "    grad_wrec = np.sum(grad_over_time[:,2]*state[:,2]+\n",
    "                    grad_over_time[:,1]*state[:,1]+\n",
    "                    grad_over_time[:,0]*state[:,0])\n",
    "\n",
    "    wx = wx - lr_wx * grad_wx\n",
    "    wrec = wrec - lr_wrec * grad_wrec"
   ]
  },
  {
   "cell_type": "code",
   "execution_count": 16,
   "metadata": {},
   "outputs": [],
   "source": [
    "# Final Output\n",
    "\n",
    "state_1_in  = state[:,0]*wrec + x[:,0]*wx\n",
    "state_1_out = log(state_1_in)\n",
    "state[:,1] = state_1_out\n",
    "\n",
    "state_2_in  = state[:,1]*wrec + x[:,1]*wx\n",
    "state_2_out = log(state_2_in)\n",
    "state[:,2] = state_2_out\n",
    "\n",
    "state_3_in  = state[:,2]*wrec + x[:,2]*wx\n",
    "state[:,3] = state_3_in"
   ]
  },
  {
   "cell_type": "code",
   "execution_count": 17,
   "metadata": {},
   "outputs": [
    {
     "name": "stdout",
     "output_type": "stream",
     "text": [
      "Final output Raw:  [1.36735465 1.61291427 3.01809184]\n",
      "Final output Rounded:  [1. 2. 3.]\n",
      "Ground Truth :  [[1 2 3]]\n"
     ]
    }
   ],
   "source": [
    "# What we got here?\n",
    "\n",
    "print(\"Final output Raw: \",state_3_in)\n",
    "print(\"Final output Rounded: \",np.round(state_3_in))\n",
    "print(\"Ground Truth : \",y.T)"
   ]
  },
  {
   "cell_type": "raw",
   "metadata": {},
   "source": [
    "That's it, we got almost same output...\n",
    "Again, Playing with RNN is a black box thing...\n",
    "So here we trained an RNN with only numpy."
   ]
  },
  {
   "cell_type": "code",
   "execution_count": null,
   "metadata": {},
   "outputs": [],
   "source": []
  }
 ],
 "metadata": {
  "kernelspec": {
   "display_name": "Python 3",
   "language": "python",
   "name": "python3"
  },
  "language_info": {
   "codemirror_mode": {
    "name": "ipython",
    "version": 3
   },
   "file_extension": ".py",
   "mimetype": "text/x-python",
   "name": "python",
   "nbconvert_exporter": "python",
   "pygments_lexer": "ipython3",
   "version": "3.8.2"
  }
 },
 "nbformat": 4,
 "nbformat_minor": 4
}
